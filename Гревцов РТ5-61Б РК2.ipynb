{
  "cells": [
    {
      "cell_type": "markdown",
      "metadata": {
        "id": "tU9D9JoEt7Cq"
      },
      "source": [
        "# Гревцов М.А. РТ5-61Б\n",
        "### Вариант 8\n",
        "### РК2 ТМО"
      ]
    },
    {
      "cell_type": "code",
      "execution_count": 1,
      "metadata": {
        "id": "NgCief3FuIQX"
      },
      "outputs": [],
      "source": [
        "import pandas as pd\n",
        "import numpy as np\n",
        "from sklearn.model_selection import train_test_split, RandomizedSearchCV\n",
        "from sklearn.ensemble import GradientBoostingRegressor\n",
        "from sklearn.tree import DecisionTreeRegressor\n",
        "from sklearn.metrics import mean_squared_error, r2_score, mean_absolute_error\n",
        "from sklearn.preprocessing import LabelEncoder\n",
        "from scipy.stats import randint as sp_randint\n"
      ]
    },
    {
      "cell_type": "markdown",
      "metadata": {
        "id": "YKCvhwawuN2m"
      },
      "source": [
        "### Загрузка данных"
      ]
    },
    {
      "cell_type": "code",
      "execution_count": 2,
      "metadata": {
        "id": "IdHM4KUquMPl"
      },
      "outputs": [],
      "source": [
        "df = pd.read_csv('googleplaystore.csv')"
      ]
    },
    {
      "cell_type": "markdown",
      "metadata": {
        "id": "BpOIHViru5MJ"
      },
      "source": [
        "### Удаление пустых значений"
      ]
    },
    {
      "cell_type": "code",
      "execution_count": 3,
      "metadata": {
        "id": "FLpUlxBHuyzE"
      },
      "outputs": [],
      "source": [
        "df.dropna(inplace = True)"
      ]
    },
    {
      "cell_type": "markdown",
      "metadata": {
        "id": "DVHAgJHvvXBr"
      },
      "source": [
        "### Преобразуем данные к нужным форматам"
      ]
    },
    {
      "cell_type": "code",
      "execution_count": 4,
      "metadata": {
        "id": "V728mRsTvaW2"
      },
      "outputs": [],
      "source": [
        "df['Installs'] = df['Installs'].str.replace('+', '').str.replace(',', '').astype(int)\n",
        "df['Price'] = df['Price'].str.replace('$', '').astype(float)\n",
        "df['Reviews'] = df['Reviews'].astype(int)"
      ]
    },
    {
      "cell_type": "code",
      "execution_count": 5,
      "metadata": {
        "id": "QPpMFzqWzOPx"
      },
      "outputs": [],
      "source": [
        "df.drop('Size', axis=1, inplace=True)"
      ]
    },
    {
      "cell_type": "markdown",
      "metadata": {
        "id": "jfUomKdwvp5E"
      },
      "source": [
        "### Кодирование категориальных признаков"
      ]
    },
    {
      "cell_type": "code",
      "execution_count": 6,
      "metadata": {
        "id": "fDnA_Jm5u_aG"
      },
      "outputs": [],
      "source": [
        "label_encoder = LabelEncoder()\n",
        "categorical_columns = ['Category', 'Type', 'Content Rating', 'Genres', \"Last Updated\", \"Current Ver\", \"Android Ver\"]"
      ]
    },
    {
      "cell_type": "code",
      "execution_count": 7,
      "metadata": {
        "id": "0fVHO4bRv2MZ"
      },
      "outputs": [],
      "source": [
        "for col in categorical_columns:\n",
        "    df[col] = label_encoder.fit_transform(df[col])"
      ]
    },
    {
      "cell_type": "code",
      "execution_count": 8,
      "metadata": {
        "id": "-HgiIc9yv45_"
      },
      "outputs": [],
      "source": [
        "X = df.drop(['App', 'Rating'], axis=1)\n",
        "y = df['Rating']"
      ]
    },
    {
      "cell_type": "code",
      "execution_count": 9,
      "metadata": {
        "colab": {
          "base_uri": "https://localhost:8080/"
        },
        "id": "WVFuJ2kAw4QD",
        "outputId": "ff0e0f54-e9cc-450b-c4b5-ea49576ec24e"
      },
      "outputs": [
        {
          "name": "stdout",
          "output_type": "stream",
          "text": [
            "<class 'pandas.core.frame.DataFrame'>\n",
            "Index: 9360 entries, 0 to 10840\n",
            "Data columns (total 12 columns):\n",
            " #   Column          Non-Null Count  Dtype  \n",
            "---  ------          --------------  -----  \n",
            " 0   App             9360 non-null   object \n",
            " 1   Category        9360 non-null   int32  \n",
            " 2   Rating          9360 non-null   float64\n",
            " 3   Reviews         9360 non-null   int32  \n",
            " 4   Installs        9360 non-null   int32  \n",
            " 5   Type            9360 non-null   int32  \n",
            " 6   Price           9360 non-null   float64\n",
            " 7   Content Rating  9360 non-null   int32  \n",
            " 8   Genres          9360 non-null   int32  \n",
            " 9   Last Updated    9360 non-null   int32  \n",
            " 10  Current Ver     9360 non-null   int32  \n",
            " 11  Android Ver     9360 non-null   int32  \n",
            "dtypes: float64(2), int32(9), object(1)\n",
            "memory usage: 621.6+ KB\n"
          ]
        }
      ],
      "source": [
        "df.info()"
      ]
    },
    {
      "cell_type": "markdown",
      "metadata": {
        "id": "Aq-qXZvaxerC"
      },
      "source": [
        "### Целевая переменная и признаки\n"
      ]
    },
    {
      "cell_type": "code",
      "execution_count": 10,
      "metadata": {
        "id": "Cjma-Oa-xcIk"
      },
      "outputs": [],
      "source": [
        "X = df.drop(['App', 'Rating'], axis=1)\n",
        "y = df['Rating']\n"
      ]
    },
    {
      "cell_type": "code",
      "execution_count": 11,
      "metadata": {
        "id": "nN0atJYc0cTY"
      },
      "outputs": [],
      "source": [
        "from sklearn.preprocessing import MinMaxScaler\n",
        "\n",
        "X_train, X_test, y_train, y_test = train_test_split(X, y, test_size=0.2, random_state=0)\n",
        "\n",
        "# Создание и применение MinMaxScaler\n",
        "scaler = MinMaxScaler()\n",
        "\n",
        "# Масштабирование данных\n",
        "X_train_scaled = scaler.fit_transform(X_train)\n",
        "X_test_scaled = scaler.transform(X_test)\n"
      ]
    },
    {
      "cell_type": "markdown",
      "metadata": {},
      "source": [
        "## Подбор гиперпараметров для DecisionTreeRegressor"
      ]
    },
    {
      "cell_type": "code",
      "execution_count": 12,
      "metadata": {},
      "outputs": [],
      "source": [
        "param_dist_dt = {\n",
        "    'max_depth': sp_randint(3, 10),\n",
        "    'min_samples_split': sp_randint(2, 10),\n",
        "    'min_samples_leaf': sp_randint(1, 10)\n",
        "}\n",
        "\n",
        "random_search_dt = RandomizedSearchCV(DecisionTreeRegressor(random_state=0), param_dist_dt, n_iter=20, cv=5, scoring='r2', random_state=0)\n",
        "random_search_dt.fit(X_train_scaled, y_train)\n",
        "best_dt = random_search_dt.best_estimator_"
      ]
    },
    {
      "cell_type": "markdown",
      "metadata": {},
      "source": [
        "## Подбор гиперпараметров для GradientBoostingRegressor"
      ]
    },
    {
      "cell_type": "code",
      "execution_count": 13,
      "metadata": {},
      "outputs": [],
      "source": [
        "param_dist_gbr = {\n",
        "    'n_estimators': sp_randint(50, 200),\n",
        "    'learning_rate': [0.01, 0.05, 0.1],\n",
        "    'max_depth': sp_randint(3, 6)\n",
        "}\n",
        "\n",
        "random_search_gbr = RandomizedSearchCV(GradientBoostingRegressor(random_state=0), param_dist_gbr, n_iter=20, cv=5, scoring='r2', random_state=0)\n",
        "random_search_gbr.fit(X_train_scaled, y_train)\n",
        "best_gbr = random_search_gbr.best_estimator_\n"
      ]
    },
    {
      "cell_type": "markdown",
      "metadata": {
        "id": "QNSRUgQex9TM"
      },
      "source": [
        "### Модели"
      ]
    },
    {
      "cell_type": "code",
      "execution_count": 14,
      "metadata": {
        "id": "h7m1GGMHyDm3"
      },
      "outputs": [],
      "source": [
        "# Обучение моделей\n",
        "best_dt.fit(X_train_scaled, y_train)\n",
        "best_gbr.fit(X_train_scaled, y_train)\n",
        "\n",
        "# Предсказания моделей\n",
        "y_pred_dt = best_dt.predict(X_test_scaled)\n",
        "y_pred_gbr = best_gbr.predict(X_test_scaled)"
      ]
    },
    {
      "cell_type": "markdown",
      "metadata": {
        "id": "viXq5KwuzsHC"
      },
      "source": [
        "Результаты"
      ]
    },
    {
      "cell_type": "code",
      "execution_count": 15,
      "metadata": {
        "id": "TE5COBGKz3YP"
      },
      "outputs": [],
      "source": [
        "# Оценка качества моделей\n",
        "dt_r2 = r2_score(y_test, y_pred_dt)\n",
        "gbr_r2 = r2_score(y_test, y_pred_gbr)\n",
        "dt_mse = mean_squared_error(y_test, y_pred_dt)\n",
        "gbr_mse = mean_squared_error(y_test, y_pred_gbr)\n",
        "dt_mae = mean_absolute_error(y_test, y_pred_dt)\n",
        "gbr_mae = mean_absolute_error(y_test, y_pred_gbr)\n",
        "dt_rmse = np.sqrt(dt_mse)\n",
        "gbr_rmse = np.sqrt(gbr_mse)"
      ]
    },
    {
      "cell_type": "code",
      "execution_count": 16,
      "metadata": {
        "colab": {
          "base_uri": "https://localhost:8080/"
        },
        "id": "jJcMpGDrztRc",
        "outputId": "525e8376-dc96-48ae-b3d5-a9ed627f4a51"
      },
      "outputs": [
        {
          "name": "stdout",
          "output_type": "stream",
          "text": [
            "Результаты моделей:\n",
            "\n",
            "Метрика                                 Дерево решений                Градиентный бустинг           \n",
            "----------------------------------------------------------------------------------------------------\n",
            "R^2                                     0.08                          0.15                          \n",
            "Среднеквадратичная ошибка (MSE)         0.25                          0.23                          \n",
            "Средняя абсолютная ошибка (MAE)         0.34                          0.32                          \n",
            "Корень из среднеквадратичной ошибки (RMSE)0.50                          0.48                          \n"
          ]
        }
      ],
      "source": [
        "# Вывод результатов\n",
        "print(\"Результаты моделей:\\n\")\n",
        "print(f\"{'Метрика':<40}{'Дерево решений':<30}{'Градиентный бустинг':<30}\")\n",
        "print(\"-\" * 100)\n",
        "print(f\"{'R^2':<40}{dt_r2:<30.2f}{gbr_r2:<30.2f}\")\n",
        "print(f\"{'Среднеквадратичная ошибка (MSE)':<40}{dt_mse:<30.2f}{gbr_mse:<30.2f}\")\n",
        "print(f\"{'Средняя абсолютная ошибка (MAE)':<40}{dt_mae:<30.2f}{gbr_mae:<30.2f}\")\n",
        "print(f\"{'Корень из среднеквадратичной ошибки (RMSE)':<40}{dt_rmse:<30.2f}{gbr_rmse:<30.2f}\")"
      ]
    },
    {
      "cell_type": "markdown",
      "metadata": {
        "id": "whWVNs1e1hE6"
      },
      "source": [
        "# Вывод"
      ]
    },
    {
      "cell_type": "markdown",
      "metadata": {},
      "source": [
        "### По результатам проверки видно, что модель градиентного бустинга обходит дерево решений по всем метрикам:\n",
        "\n",
        "1. По метрике R^2 градиентный бустинг показывает более высокое значение (0.15) по сравнению с деревом решений (0.08), что указывает на лучшее объяснение дисперсии целевой переменной.\n",
        "2. По метрике среднеквадратичной ошибки (MSE) градиентный бустинг также лучше (0.23 против 0.25), что говорит о меньшей средней квадратичной ошибке предсказаний.\n",
        "3. Средняя абсолютная ошибка (MAE) у градиентного бустинга ниже (0.32) по сравнению с деревом решений (0.34), что означает более точные предсказания в среднем.\n",
        "4. Корень из среднеквадратичной ошибки (RMSE) также меньше у градиентного бустинга (0.48 против 0.50), что указывает на меньшие отклонения предсказаний от фактических значений.\n",
        "\n",
        "Таким образом, модель градиентного бустинга является более точной и эффективной для данного набора данных по сравнению с деревом решений.\n"
      ]
    }
  ],
  "metadata": {
    "colab": {
      "provenance": []
    },
    "kernelspec": {
      "display_name": "Python 3",
      "name": "python3"
    },
    "language_info": {
      "codemirror_mode": {
        "name": "ipython",
        "version": 3
      },
      "file_extension": ".py",
      "mimetype": "text/x-python",
      "name": "python",
      "nbconvert_exporter": "python",
      "pygments_lexer": "ipython3",
      "version": "3.12.1"
    }
  },
  "nbformat": 4,
  "nbformat_minor": 0
}
